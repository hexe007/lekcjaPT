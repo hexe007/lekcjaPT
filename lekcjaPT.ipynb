{
  "nbformat": 4,
  "nbformat_minor": 0,
  "metadata": {
    "colab": {
      "provenance": [],
      "authorship_tag": "ABX9TyNMQ4EZy3uEixBFtiNjPM/O",
      "include_colab_link": true
    },
    "kernelspec": {
      "name": "python3",
      "display_name": "Python 3"
    },
    "language_info": {
      "name": "python"
    },
    "gpuClass": "standard"
  },
  "cells": [
    {
      "cell_type": "markdown",
      "metadata": {
        "id": "view-in-github",
        "colab_type": "text"
      },
      "source": [
        "<a href=\"https://colab.research.google.com/github/hexe007/lekcjaPT/blob/main/lekcjaPT.ipynb\" target=\"_parent\"><img src=\"https://colab.research.google.com/assets/colab-badge.svg\" alt=\"Open In Colab\"/></a>"
      ]
    },
    {
      "cell_type": "markdown",
      "source": [
        "to jest test jak zmienic linijki kodu w linijki tekstowe- bardzo prosto--wystarczy kliknac i przytrzymac ctrl z drukrotnym nacisnieciem mm"
      ],
      "metadata": {
        "id": "SIP9Yvhb7SID"
      }
    },
    {
      "cell_type": "code",
      "execution_count": 1,
      "metadata": {
        "colab": {
          "base_uri": "https://localhost:8080/"
        },
        "id": "Jf5r8vqu4ysR",
        "outputId": "9cd4cde4-aa0f-4710-9a55-20731a02fde0"
      },
      "outputs": [
        {
          "output_type": "stream",
          "name": "stdout",
          "text": [
            "/bin/bash: nvidia-smi: command not found\n"
          ]
        }
      ],
      "source": [
        "!nvidia-smi\n"
      ]
    },
    {
      "cell_type": "code",
      "source": [
        "import torch\n",
        "import pandas as pd\n",
        "import numpy as np\n",
        "import matplotlib.pyplot as plt\n",
        "print(torch.__version__)"
      ],
      "metadata": {
        "colab": {
          "base_uri": "https://localhost:8080/"
        },
        "id": "kwmKzp-H8AZQ",
        "outputId": "31ec4689-f4c5-46b4-a7ea-8dd3cf97f58b"
      },
      "execution_count": 2,
      "outputs": [
        {
          "output_type": "stream",
          "name": "stdout",
          "text": [
            "2.0.0+cu118\n"
          ]
        }
      ]
    },
    {
      "cell_type": "markdown",
      "source": [
        "tensors"
      ],
      "metadata": {
        "id": "EORmjuqPDkap"
      }
    },
    {
      "cell_type": "code",
      "source": [
        "#scalar\n",
        "scalar= torch.tensor(7)\n",
        "scalar"
      ],
      "metadata": {
        "colab": {
          "base_uri": "https://localhost:8080/"
        },
        "id": "6ZAVHhrdD-Ts",
        "outputId": "8682c3dc-fbfa-4066-a828-7f9aac1c3bee"
      },
      "execution_count": 3,
      "outputs": [
        {
          "output_type": "execute_result",
          "data": {
            "text/plain": [
              "tensor(7)"
            ]
          },
          "metadata": {},
          "execution_count": 3
        }
      ]
    },
    {
      "cell_type": "code",
      "source": [
        "scalar.ndim"
      ],
      "metadata": {
        "colab": {
          "base_uri": "https://localhost:8080/"
        },
        "id": "ga9Zw0XBEbvn",
        "outputId": "05039700-dbb4-40be-cc7b-019265fb95f0"
      },
      "execution_count": 4,
      "outputs": [
        {
          "output_type": "execute_result",
          "data": {
            "text/plain": [
              "0"
            ]
          },
          "metadata": {},
          "execution_count": 4
        }
      ]
    },
    {
      "cell_type": "code",
      "source": [
        "#shift + enter ---uruchomienie run ndim-non dimention"
      ],
      "metadata": {
        "id": "-FrU0E0TE6Ol"
      },
      "execution_count": 5,
      "outputs": []
    },
    {
      "cell_type": "code",
      "source": [
        "scalar.item() #get tensor back as int"
      ],
      "metadata": {
        "colab": {
          "base_uri": "https://localhost:8080/"
        },
        "id": "wT8Oett3FJTw",
        "outputId": "ecc665a4-5b56-46af-883c-95518263badc"
      },
      "execution_count": 6,
      "outputs": [
        {
          "output_type": "execute_result",
          "data": {
            "text/plain": [
              "7"
            ]
          },
          "metadata": {},
          "execution_count": 6
        }
      ]
    },
    {
      "cell_type": "code",
      "source": [
        "#vector\n",
        "vector=torch.tensor([7,7])"
      ],
      "metadata": {
        "id": "VhvKESPpFLVF"
      },
      "execution_count": 7,
      "outputs": []
    },
    {
      "cell_type": "code",
      "source": [
        "vector.ndim #number of square cloasing brackets,numer zamknietych nawiasow"
      ],
      "metadata": {
        "colab": {
          "base_uri": "https://localhost:8080/"
        },
        "id": "4OyZrbYwFncw",
        "outputId": "067a02a6-3b3d-4322-9fd6-765ce4e2d494"
      },
      "execution_count": 8,
      "outputs": [
        {
          "output_type": "execute_result",
          "data": {
            "text/plain": [
              "1"
            ]
          },
          "metadata": {},
          "execution_count": 8
        }
      ]
    },
    {
      "cell_type": "code",
      "source": [
        "vector.shape"
      ],
      "metadata": {
        "colab": {
          "base_uri": "https://localhost:8080/"
        },
        "id": "k8aHbu52FpjI",
        "outputId": "16b4e3a9-8dc0-48b2-9d6d-ef1be783b10d"
      },
      "execution_count": 9,
      "outputs": [
        {
          "output_type": "execute_result",
          "data": {
            "text/plain": [
              "torch.Size([2])"
            ]
          },
          "metadata": {},
          "execution_count": 9
        }
      ]
    },
    {
      "cell_type": "code",
      "source": [
        "#MATRIX\n",
        "MATRIX=torch.tensor([[7,8],\n",
        "                     [9,10]])"
      ],
      "metadata": {
        "id": "QFnys1n7FuAn"
      },
      "execution_count": 10,
      "outputs": []
    },
    {
      "cell_type": "code",
      "source": [
        "#matrix"
      ],
      "metadata": {
        "id": "2bix_p3BGRxj"
      },
      "execution_count": 11,
      "outputs": []
    },
    {
      "cell_type": "code",
      "source": [
        "MATRIX"
      ],
      "metadata": {
        "colab": {
          "base_uri": "https://localhost:8080/"
        },
        "id": "IR_b3cKyGTpO",
        "outputId": "c5e370ec-39a4-4e7a-9ac4-d9d3a66edb4a"
      },
      "execution_count": 12,
      "outputs": [
        {
          "output_type": "execute_result",
          "data": {
            "text/plain": [
              "tensor([[ 7,  8],\n",
              "        [ 9, 10]])"
            ]
          },
          "metadata": {},
          "execution_count": 12
        }
      ]
    },
    {
      "cell_type": "code",
      "source": [
        "MATRIX.ndim"
      ],
      "metadata": {
        "colab": {
          "base_uri": "https://localhost:8080/"
        },
        "id": "3anGy0tEGUxs",
        "outputId": "97daf5ce-8de9-4906-93da-f43ef9b21e61"
      },
      "execution_count": 13,
      "outputs": [
        {
          "output_type": "execute_result",
          "data": {
            "text/plain": [
              "2"
            ]
          },
          "metadata": {},
          "execution_count": 13
        }
      ]
    },
    {
      "cell_type": "code",
      "source": [
        "MATRIX[0]"
      ],
      "metadata": {
        "colab": {
          "base_uri": "https://localhost:8080/"
        },
        "id": "Ev37RlO1Gf-m",
        "outputId": "ec2c444f-72a7-4208-9563-6e4bccbaa71d"
      },
      "execution_count": 14,
      "outputs": [
        {
          "output_type": "execute_result",
          "data": {
            "text/plain": [
              "tensor([7, 8])"
            ]
          },
          "metadata": {},
          "execution_count": 14
        }
      ]
    },
    {
      "cell_type": "code",
      "source": [
        "MATRIX[1]"
      ],
      "metadata": {
        "colab": {
          "base_uri": "https://localhost:8080/"
        },
        "id": "ldx1iSTxGj78",
        "outputId": "5809e30a-ee93-4229-89ae-922534960578"
      },
      "execution_count": 15,
      "outputs": [
        {
          "output_type": "execute_result",
          "data": {
            "text/plain": [
              "tensor([ 9, 10])"
            ]
          },
          "metadata": {},
          "execution_count": 15
        }
      ]
    },
    {
      "cell_type": "code",
      "source": [
        "MATRIX.shape"
      ],
      "metadata": {
        "colab": {
          "base_uri": "https://localhost:8080/"
        },
        "id": "auIlNFyeGo-g",
        "outputId": "42014a12-c596-4050-d1cb-9efbe13c893d"
      },
      "execution_count": 16,
      "outputs": [
        {
          "output_type": "execute_result",
          "data": {
            "text/plain": [
              "torch.Size([2, 2])"
            ]
          },
          "metadata": {},
          "execution_count": 16
        }
      ]
    },
    {
      "cell_type": "code",
      "source": [
        "#TENSOR\n",
        "TENSOR=torch.tensor([[[1,2,3],\n",
        "                       [3,6,9],\n",
        "                       [2,5,4]]])\n",
        "TENSOR"
      ],
      "metadata": {
        "colab": {
          "base_uri": "https://localhost:8080/"
        },
        "id": "rhaHwysmGrET",
        "outputId": "d144fb4a-9158-48ad-fb0a-f98ce5a4f238"
      },
      "execution_count": 17,
      "outputs": [
        {
          "output_type": "execute_result",
          "data": {
            "text/plain": [
              "tensor([[[1, 2, 3],\n",
              "         [3, 6, 9],\n",
              "         [2, 5, 4]]])"
            ]
          },
          "metadata": {},
          "execution_count": 17
        }
      ]
    },
    {
      "cell_type": "code",
      "source": [
        "TENSOR.ndim"
      ],
      "metadata": {
        "colab": {
          "base_uri": "https://localhost:8080/"
        },
        "id": "rNVGAu-EHBgY",
        "outputId": "ae756e93-9b15-421e-e8e6-96cd97d23ca5"
      },
      "execution_count": 18,
      "outputs": [
        {
          "output_type": "execute_result",
          "data": {
            "text/plain": [
              "3"
            ]
          },
          "metadata": {},
          "execution_count": 18
        }
      ]
    },
    {
      "cell_type": "code",
      "source": [
        "TENSOR.shape"
      ],
      "metadata": {
        "colab": {
          "base_uri": "https://localhost:8080/"
        },
        "id": "XUFKC8cWHZ0b",
        "outputId": "eced9bf3-6917-4446-e2e4-b3aa5e60caf4"
      },
      "execution_count": 19,
      "outputs": [
        {
          "output_type": "execute_result",
          "data": {
            "text/plain": [
              "torch.Size([1, 3, 3])"
            ]
          },
          "metadata": {},
          "execution_count": 19
        }
      ]
    },
    {
      "cell_type": "code",
      "source": [
        "TENSOR[0]"
      ],
      "metadata": {
        "colab": {
          "base_uri": "https://localhost:8080/"
        },
        "id": "TKPzP5JDHcDz",
        "outputId": "12e98afe-c1f8-46c8-ec37-27b7cd398b82"
      },
      "execution_count": 20,
      "outputs": [
        {
          "output_type": "execute_result",
          "data": {
            "text/plain": [
              "tensor([[1, 2, 3],\n",
              "        [3, 6, 9],\n",
              "        [2, 5, 4]])"
            ]
          },
          "metadata": {},
          "execution_count": 20
        }
      ]
    },
    {
      "cell_type": "code",
      "source": [
        "#dim ([1,3,3]) 1-oznacza pierwszy nawias kwadratowy, 2-ilosc kolejnych rzedow,3-ilosc kolejnych kolumn\n"
      ],
      "metadata": {
        "id": "UDOIl_YGHmxt"
      },
      "execution_count": 21,
      "outputs": []
    },
    {
      "cell_type": "code",
      "source": [
        "TENSOR=torch.tensor([[[[[1,2,3],\n",
        "                        [2,3,4],\n",
        "                        [3,2,5],\n",
        "                        [1,2,4],\n",
        "                        [7,8,9],\n",
        "                        [1,6,3]]]]])\n",
        "TENSOR"
      ],
      "metadata": {
        "colab": {
          "base_uri": "https://localhost:8080/"
        },
        "id": "UxT1CPtFIVSk",
        "outputId": "9638eb1d-716d-444e-b189-f6c0ebb3568f"
      },
      "execution_count": 22,
      "outputs": [
        {
          "output_type": "execute_result",
          "data": {
            "text/plain": [
              "tensor([[[[[1, 2, 3],\n",
              "           [2, 3, 4],\n",
              "           [3, 2, 5],\n",
              "           [1, 2, 4],\n",
              "           [7, 8, 9],\n",
              "           [1, 6, 3]]]]])"
            ]
          },
          "metadata": {},
          "execution_count": 22
        }
      ]
    },
    {
      "cell_type": "code",
      "source": [
        "TENSOR.ndim"
      ],
      "metadata": {
        "colab": {
          "base_uri": "https://localhost:8080/"
        },
        "id": "UKjlghwUJjgw",
        "outputId": "5591d5e1-d1eb-4d85-d107-20fb61d7266b"
      },
      "execution_count": 23,
      "outputs": [
        {
          "output_type": "execute_result",
          "data": {
            "text/plain": [
              "5"
            ]
          },
          "metadata": {},
          "execution_count": 23
        }
      ]
    },
    {
      "cell_type": "code",
      "source": [
        "TENSOR.shape"
      ],
      "metadata": {
        "colab": {
          "base_uri": "https://localhost:8080/"
        },
        "id": "4061BbgQJq5e",
        "outputId": "2372cb03-5fee-4714-cdb0-681b40afc190"
      },
      "execution_count": 24,
      "outputs": [
        {
          "output_type": "execute_result",
          "data": {
            "text/plain": [
              "torch.Size([1, 1, 1, 6, 3])"
            ]
          },
          "metadata": {},
          "execution_count": 24
        }
      ]
    },
    {
      "cell_type": "code",
      "source": [
        "TENSOR[0]"
      ],
      "metadata": {
        "colab": {
          "base_uri": "https://localhost:8080/"
        },
        "id": "IFsGd5ekJy_b",
        "outputId": "c77faed2-8de8-4cde-f183-f814951d36c7"
      },
      "execution_count": 25,
      "outputs": [
        {
          "output_type": "execute_result",
          "data": {
            "text/plain": [
              "tensor([[[[1, 2, 3],\n",
              "          [2, 3, 4],\n",
              "          [3, 2, 5],\n",
              "          [1, 2, 4],\n",
              "          [7, 8, 9],\n",
              "          [1, 6, 3]]]])"
            ]
          },
          "metadata": {},
          "execution_count": 25
        }
      ]
    },
    {
      "cell_type": "markdown",
      "source": [
        "###RANDOM TENSORS"
      ],
      "metadata": {
        "id": "KDGb5L1JJ6zn"
      }
    },
    {
      "cell_type": "code",
      "source": [
        "#`START WITH RANDOM NUMERS--->LOOK AT THE DATA-->UPDATE RANDM NUMBERS--->LOOK AT DATA-->UPDATE RANDOM NUMBERS`"
      ],
      "metadata": {
        "id": "aM94UlV1Kkr8"
      },
      "execution_count": 26,
      "outputs": []
    },
    {
      "cell_type": "code",
      "source": [
        "#CREATE OF RANDOM TENSOR\n",
        "random_tensor=torch.rand(3,4)\n",
        "random_tensor"
      ],
      "metadata": {
        "colab": {
          "base_uri": "https://localhost:8080/"
        },
        "id": "1ytLM7G_LOUP",
        "outputId": "c374506e-63d3-42c9-ad24-3f3fcd818d11"
      },
      "execution_count": 27,
      "outputs": [
        {
          "output_type": "execute_result",
          "data": {
            "text/plain": [
              "tensor([[0.1860, 0.2389, 0.4600, 0.2966],\n",
              "        [0.4952, 0.7684, 0.1209, 0.4046],\n",
              "        [0.1899, 0.6861, 0.9362, 0.5122]])"
            ]
          },
          "metadata": {},
          "execution_count": 27
        }
      ]
    },
    {
      "cell_type": "code",
      "source": [
        "random_tensor.ndim"
      ],
      "metadata": {
        "colab": {
          "base_uri": "https://localhost:8080/"
        },
        "id": "imWFqZWgL8vM",
        "outputId": "1480330f-8392-4f8c-f1fa-1b58ccdfb7a6"
      },
      "execution_count": 28,
      "outputs": [
        {
          "output_type": "execute_result",
          "data": {
            "text/plain": [
              "2"
            ]
          },
          "metadata": {},
          "execution_count": 28
        }
      ]
    },
    {
      "cell_type": "code",
      "source": [
        "#crate a random tensor with similar shape to an image tensor"
      ],
      "metadata": {
        "id": "UAyIp5fTLyv1"
      },
      "execution_count": 29,
      "outputs": []
    },
    {
      "cell_type": "code",
      "source": [
        "random_image_size_tensor = torch.rand(size=(224,224,3))#hight with colour chanel R G B\n",
        "random_image_size_tensor.shape, random_image_size_tensor.ndim"
      ],
      "metadata": {
        "id": "FMbq1PdIMfZg",
        "colab": {
          "base_uri": "https://localhost:8080/"
        },
        "outputId": "daae8585-c7e6-4d2d-9b95-fdde392b7691"
      },
      "execution_count": 30,
      "outputs": [
        {
          "output_type": "execute_result",
          "data": {
            "text/plain": [
              "(torch.Size([224, 224, 3]), 3)"
            ]
          },
          "metadata": {},
          "execution_count": 30
        }
      ]
    },
    {
      "cell_type": "markdown",
      "source": [
        "# zeros and ones"
      ],
      "metadata": {
        "id": "BJz8LvYxP-cc"
      }
    },
    {
      "cell_type": "code",
      "source": [
        "#create a tensor of all zeroes\n",
        "zeros=torch.zeros(size=(3,4))\n",
        "zeros"
      ],
      "metadata": {
        "colab": {
          "base_uri": "https://localhost:8080/"
        },
        "id": "xWyLsJfmQvjt",
        "outputId": "d37bab4b-257b-4ba3-a77b-a18ae90aa486"
      },
      "execution_count": 31,
      "outputs": [
        {
          "output_type": "execute_result",
          "data": {
            "text/plain": [
              "tensor([[0., 0., 0., 0.],\n",
              "        [0., 0., 0., 0.],\n",
              "        [0., 0., 0., 0.]])"
            ]
          },
          "metadata": {},
          "execution_count": 31
        }
      ]
    },
    {
      "cell_type": "code",
      "source": [
        "zeros*random_tensor"
      ],
      "metadata": {
        "colab": {
          "base_uri": "https://localhost:8080/"
        },
        "id": "gh67X8axQ-EK",
        "outputId": "bf39d3b6-5ff8-471b-ff42-073e2e37231c"
      },
      "execution_count": 32,
      "outputs": [
        {
          "output_type": "execute_result",
          "data": {
            "text/plain": [
              "tensor([[0., 0., 0., 0.],\n",
              "        [0., 0., 0., 0.],\n",
              "        [0., 0., 0., 0.]])"
            ]
          },
          "metadata": {},
          "execution_count": 32
        }
      ]
    },
    {
      "cell_type": "code",
      "source": [
        "#all ones\n",
        "ones=torch.ones(size=(3,4))\n",
        "ones"
      ],
      "metadata": {
        "colab": {
          "base_uri": "https://localhost:8080/"
        },
        "id": "nwO2pWxCRD0X",
        "outputId": "fff55e6c-1b0a-4e21-ae02-9e25501cd9a5"
      },
      "execution_count": 33,
      "outputs": [
        {
          "output_type": "execute_result",
          "data": {
            "text/plain": [
              "tensor([[1., 1., 1., 1.],\n",
              "        [1., 1., 1., 1.],\n",
              "        [1., 1., 1., 1.]])"
            ]
          },
          "metadata": {},
          "execution_count": 33
        }
      ]
    },
    {
      "cell_type": "code",
      "source": [
        "ones.dtype"
      ],
      "metadata": {
        "colab": {
          "base_uri": "https://localhost:8080/"
        },
        "id": "xYPQU2LYRPg4",
        "outputId": "90644e39-01c8-4ec6-cfa8-4d01db3b2071"
      },
      "execution_count": 34,
      "outputs": [
        {
          "output_type": "execute_result",
          "data": {
            "text/plain": [
              "torch.float32"
            ]
          },
          "metadata": {},
          "execution_count": 34
        }
      ]
    },
    {
      "cell_type": "code",
      "source": [
        "random_tensor.dtype"
      ],
      "metadata": {
        "colab": {
          "base_uri": "https://localhost:8080/"
        },
        "id": "0xK-DUUTRXJs",
        "outputId": "b170e1e7-ee42-4927-9b7d-b8485fd5e4f9"
      },
      "execution_count": 35,
      "outputs": [
        {
          "output_type": "execute_result",
          "data": {
            "text/plain": [
              "torch.float32"
            ]
          },
          "metadata": {},
          "execution_count": 35
        }
      ]
    },
    {
      "cell_type": "code",
      "source": [
        "#RANGE OF TENSORS\n",
        "torch.range(0,10)"
      ],
      "metadata": {
        "colab": {
          "base_uri": "https://localhost:8080/"
        },
        "id": "zy8XdgDFRaEn",
        "outputId": "61d215ce-ad76-43ec-924d-d09b2e44c0f1"
      },
      "execution_count": 36,
      "outputs": [
        {
          "output_type": "stream",
          "name": "stderr",
          "text": [
            "<ipython-input-36-9d45fe218c47>:2: UserWarning: torch.range is deprecated and will be removed in a future release because its behavior is inconsistent with Python's range builtin. Instead, use torch.arange, which produces values in [start, end).\n",
            "  torch.range(0,10)\n"
          ]
        },
        {
          "output_type": "execute_result",
          "data": {
            "text/plain": [
              "tensor([ 0.,  1.,  2.,  3.,  4.,  5.,  6.,  7.,  8.,  9., 10.])"
            ]
          },
          "metadata": {},
          "execution_count": 36
        }
      ]
    },
    {
      "cell_type": "code",
      "source": [
        "torch.__version__"
      ],
      "metadata": {
        "colab": {
          "base_uri": "https://localhost:8080/",
          "height": 35
        },
        "id": "ORzor3pYSH4N",
        "outputId": "9e8623a9-b266-4da4-a985-a295ab43dd46"
      },
      "execution_count": 37,
      "outputs": [
        {
          "output_type": "execute_result",
          "data": {
            "text/plain": [
              "'2.0.0+cu118'"
            ],
            "application/vnd.google.colaboratory.intrinsic+json": {
              "type": "string"
            }
          },
          "metadata": {},
          "execution_count": 37
        }
      ]
    },
    {
      "cell_type": "code",
      "source": [
        "torch.arange(0,10)"
      ],
      "metadata": {
        "colab": {
          "base_uri": "https://localhost:8080/"
        },
        "id": "K9a2p9fASMN8",
        "outputId": "89991762-360c-4773-cbf8-a7dcd4f1637c"
      },
      "execution_count": 38,
      "outputs": [
        {
          "output_type": "execute_result",
          "data": {
            "text/plain": [
              "tensor([0, 1, 2, 3, 4, 5, 6, 7, 8, 9])"
            ]
          },
          "metadata": {},
          "execution_count": 38
        }
      ]
    },
    {
      "cell_type": "code",
      "source": [
        "one_to_ten=torch.arange(1,11)"
      ],
      "metadata": {
        "id": "57EEh5NGSRBt"
      },
      "execution_count": 39,
      "outputs": []
    },
    {
      "cell_type": "code",
      "source": [
        "one_to_ten"
      ],
      "metadata": {
        "colab": {
          "base_uri": "https://localhost:8080/"
        },
        "id": "_Mhe2EJZSYKq",
        "outputId": "01cdd912-0211-46c5-8cdb-4eeb1befdd20"
      },
      "execution_count": 40,
      "outputs": [
        {
          "output_type": "execute_result",
          "data": {
            "text/plain": [
              "tensor([ 1,  2,  3,  4,  5,  6,  7,  8,  9, 10])"
            ]
          },
          "metadata": {},
          "execution_count": 40
        }
      ]
    },
    {
      "cell_type": "code",
      "source": [
        "one_to_ten=torch.arange(start=0,end=1000,step=77)"
      ],
      "metadata": {
        "id": "Tswi868oSaSn"
      },
      "execution_count": 41,
      "outputs": []
    },
    {
      "cell_type": "code",
      "source": [
        "#one_to_ten"
      ],
      "metadata": {
        "id": "-mJTq-yZSj4v"
      },
      "execution_count": 42,
      "outputs": []
    },
    {
      "cell_type": "code",
      "source": [
        "#creating tensors like\n",
        "ten_zeros=torch.zeros_like(input=one_to_ten)\n",
        "ten_zeros"
      ],
      "metadata": {
        "colab": {
          "base_uri": "https://localhost:8080/"
        },
        "id": "pU8C11EpS2z7",
        "outputId": "0381f73a-7be3-4bed-a919-631f0109dbc2"
      },
      "execution_count": 43,
      "outputs": [
        {
          "output_type": "execute_result",
          "data": {
            "text/plain": [
              "tensor([0, 0, 0, 0, 0, 0, 0, 0, 0, 0, 0, 0, 0])"
            ]
          },
          "metadata": {},
          "execution_count": 43
        }
      ]
    },
    {
      "cell_type": "markdown",
      "source": [
        "#tensors data types\n",
        " 3 BIG PROBLEMS WITH TENSORS:\n",
        " 1.TENSORS NOT RIGHT DATATYPE\n",
        " 2.TENSORS NOT RIGHT SHAPE\n",
        " 3.TENSORS NOT ON THE RIGHT DEVICE"
      ],
      "metadata": {
        "id": "3HbnJF5bTbVx"
      }
    },
    {
      "cell_type": "code",
      "source": [
        "float_32_tensor=torch.tensor([3.0,6.0,9.0],\n",
        "                             dtype=torch.float16 #zmiana dtypu z float 32 na float 16\n",
        "                             device=None #what device is your tensor on\n",
        "                             requires_grad=False) # whether or not to track gradients with this tensors operations\n",
        "float_32_tensor"
      ],
      "metadata": {
        "colab": {
          "base_uri": "https://localhost:8080/",
          "height": 133
        },
        "id": "4YNX01W9T-8h",
        "outputId": "5c3ad9d3-6f9d-449c-f099-068908d82892"
      },
      "execution_count": 45,
      "outputs": [
        {
          "output_type": "error",
          "ename": "SyntaxError",
          "evalue": "ignored",
          "traceback": [
            "\u001b[0;36m  File \u001b[0;32m\"<ipython-input-45-04e9758cb407>\"\u001b[0;36m, line \u001b[0;32m2\u001b[0m\n\u001b[0;31m    dtype=torch.float16 #zmiana dtypu z float 32 na float 16\u001b[0m\n\u001b[0m          ^\u001b[0m\n\u001b[0;31mSyntaxError\u001b[0m\u001b[0;31m:\u001b[0m invalid syntax. Perhaps you forgot a comma?\n"
          ]
        }
      ]
    },
    {
      "cell_type": "code",
      "source": [
        "float_16_tensor=float_32_tensor.type(torch.float32)# zmiana float 16 na float 32\n",
        "float_16_tensor"
      ],
      "metadata": {
        "id": "HOk53wgiUhHl",
        "colab": {
          "base_uri": "https://localhost:8080/",
          "height": 186
        },
        "outputId": "c287cb18-5068-4a54-c5a2-e0691ca25ef2"
      },
      "execution_count": 47,
      "outputs": [
        {
          "output_type": "error",
          "ename": "NameError",
          "evalue": "ignored",
          "traceback": [
            "\u001b[0;31m---------------------------------------------------------------------------\u001b[0m",
            "\u001b[0;31mNameError\u001b[0m                                 Traceback (most recent call last)",
            "\u001b[0;32m<ipython-input-47-9b0dd9b15b3a>\u001b[0m in \u001b[0;36m<cell line: 1>\u001b[0;34m()\u001b[0m\n\u001b[0;32m----> 1\u001b[0;31m \u001b[0mfloat_16_tensor\u001b[0m\u001b[0;34m=\u001b[0m\u001b[0mfloat_32_tensor\u001b[0m\u001b[0;34m.\u001b[0m\u001b[0mtype\u001b[0m\u001b[0;34m(\u001b[0m\u001b[0mtorch\u001b[0m\u001b[0;34m.\u001b[0m\u001b[0mfloat32\u001b[0m\u001b[0;34m)\u001b[0m\u001b[0;31m# zmiana float 16 na float 32\u001b[0m\u001b[0;34m\u001b[0m\u001b[0;34m\u001b[0m\u001b[0m\n\u001b[0m\u001b[1;32m      2\u001b[0m \u001b[0mfloat_16_tensor\u001b[0m\u001b[0;34m\u001b[0m\u001b[0;34m\u001b[0m\u001b[0m\n",
            "\u001b[0;31mNameError\u001b[0m: name 'float_32_tensor' is not defined"
          ]
        }
      ]
    },
    {
      "cell_type": "code",
      "source": [
        "int_32_tensor=torch.tensor([3,6,9],dtype=torch.int64)\n",
        "int_32_tensor"
      ],
      "metadata": {
        "id": "oOJQ_uCHXBqU",
        "colab": {
          "base_uri": "https://localhost:8080/"
        },
        "outputId": "d0fa68b5-2697-4482-dca0-8889e4c08506"
      },
      "execution_count": 48,
      "outputs": [
        {
          "output_type": "execute_result",
          "data": {
            "text/plain": [
              "tensor([3, 6, 9])"
            ]
          },
          "metadata": {},
          "execution_count": 48
        }
      ]
    },
    {
      "cell_type": "code",
      "source": [
        "float_32_tensor*int_32_tensor"
      ],
      "metadata": {
        "id": "Xf3m-kDobgqm",
        "colab": {
          "base_uri": "https://localhost:8080/",
          "height": 168
        },
        "outputId": "24aa35a2-b05a-46d9-acf2-edca6378e1ef"
      },
      "execution_count": 105,
      "outputs": [
        {
          "output_type": "error",
          "ename": "NameError",
          "evalue": "ignored",
          "traceback": [
            "\u001b[0;31m---------------------------------------------------------------------------\u001b[0m",
            "\u001b[0;31mNameError\u001b[0m                                 Traceback (most recent call last)",
            "\u001b[0;32m<ipython-input-105-e9e633afb6aa>\u001b[0m in \u001b[0;36m<cell line: 1>\u001b[0;34m()\u001b[0m\n\u001b[0;32m----> 1\u001b[0;31m \u001b[0mfloat_32_tensor\u001b[0m\u001b[0;34m*\u001b[0m\u001b[0mint_32_tensor\u001b[0m\u001b[0;34m\u001b[0m\u001b[0;34m\u001b[0m\u001b[0m\n\u001b[0m",
            "\u001b[0;31mNameError\u001b[0m: name 'float_32_tensor' is not defined"
          ]
        }
      ]
    },
    {
      "cell_type": "code",
      "source": [
        "float_16_tensor.dtype"
      ],
      "metadata": {
        "id": "VmHTBd1tbrxU",
        "colab": {
          "base_uri": "https://localhost:8080/",
          "height": 168
        },
        "outputId": "6ff623a1-9b48-4f5d-fc23-15b29ddb74b4"
      },
      "execution_count": 152,
      "outputs": [
        {
          "output_type": "error",
          "ename": "NameError",
          "evalue": "ignored",
          "traceback": [
            "\u001b[0;31m---------------------------------------------------------------------------\u001b[0m",
            "\u001b[0;31mNameError\u001b[0m                                 Traceback (most recent call last)",
            "\u001b[0;32m<ipython-input-152-9376f4554c2f>\u001b[0m in \u001b[0;36m<cell line: 1>\u001b[0;34m()\u001b[0m\n\u001b[0;32m----> 1\u001b[0;31m \u001b[0mfloat_16_tensor\u001b[0m\u001b[0;34m.\u001b[0m\u001b[0mdtype\u001b[0m\u001b[0;34m\u001b[0m\u001b[0;34m\u001b[0m\u001b[0m\n\u001b[0m",
            "\u001b[0;31mNameError\u001b[0m: name 'float_16_tensor' is not defined"
          ]
        }
      ]
    },
    {
      "cell_type": "markdown",
      "source": [
        "###getting some info from tensors (tensors attributes)\n",
        "\n",
        "\n",
        "1.    1.TENSORS NOT RIGHT DATATYPE -to get `dtypes`can use tensor.dtype\n",
        "      2.TENSORS NOT RIGHT SHAPE - to get shape can use tensor.shape\n",
        "     3.TENSORS NOT ON THE RIGHT DEVICE - to get device use tensor.device\n",
        "\n",
        "\n",
        "\n"
      ],
      "metadata": {
        "id": "FAgpzuercNrV"
      }
    },
    {
      "cell_type": "code",
      "source": [
        "#create a tensor\n",
        "some_tensor=torch.rand(3,4)\n",
        "some_tensor"
      ],
      "metadata": {
        "id": "Ln1lIwvKdRPA",
        "colab": {
          "base_uri": "https://localhost:8080/"
        },
        "outputId": "0e78dc8e-babe-49ef-ba9b-572bbe7c0585"
      },
      "execution_count": 153,
      "outputs": [
        {
          "output_type": "execute_result",
          "data": {
            "text/plain": [
              "tensor([[0.9199, 0.2917, 0.0911, 0.7330],\n",
              "        [0.1728, 0.0486, 0.0885, 0.5365],\n",
              "        [0.2908, 0.9132, 0.4769, 0.3754]])"
            ]
          },
          "metadata": {},
          "execution_count": 153
        }
      ]
    },
    {
      "cell_type": "code",
      "source": [
        "#find out details about some tnesor\n",
        "print(some_tensor)\n",
        "print(f\"Datatype of tensor:{some_tensor.dtype}\")\n",
        "print(f\"Shape of tensor:{some_tensor.shape}\")\n",
        "print(f\"Device tensor is on:{some_tensor.device}\")"
      ],
      "metadata": {
        "id": "UJ1rSb9_dbjZ",
        "colab": {
          "base_uri": "https://localhost:8080/"
        },
        "outputId": "9edf7914-ec43-4c11-de86-3ab33bf02181"
      },
      "execution_count": 154,
      "outputs": [
        {
          "output_type": "stream",
          "name": "stdout",
          "text": [
            "tensor([[0.9199, 0.2917, 0.0911, 0.7330],\n",
            "        [0.1728, 0.0486, 0.0885, 0.5365],\n",
            "        [0.2908, 0.9132, 0.4769, 0.3754]])\n",
            "Datatype of tensor:torch.float32\n",
            "Shape of tensor:torch.Size([3, 4])\n",
            "Device tensor is on:cpu\n"
          ]
        }
      ]
    },
    {
      "cell_type": "code",
      "source": [
        "jakis_tensor=torch.rand(2,4,3)\n",
        "jakis_tensor"
      ],
      "metadata": {
        "id": "2UNvtADxeuAs",
        "colab": {
          "base_uri": "https://localhost:8080/"
        },
        "outputId": "3da2a94e-c839-4f3c-dd3c-11151c2817e2"
      },
      "execution_count": 155,
      "outputs": [
        {
          "output_type": "execute_result",
          "data": {
            "text/plain": [
              "tensor([[[0.3865, 0.8379, 0.7598],\n",
              "         [0.9377, 0.0328, 0.6177],\n",
              "         [0.2613, 0.1385, 0.9460],\n",
              "         [0.4241, 0.4131, 0.2268]],\n",
              "\n",
              "        [[0.4614, 0.8720, 0.8223],\n",
              "         [0.7582, 0.6760, 0.1479],\n",
              "         [0.8688, 0.7424, 0.8436],\n",
              "         [0.0424, 0.6302, 0.1202]]])"
            ]
          },
          "metadata": {},
          "execution_count": 155
        }
      ]
    },
    {
      "cell_type": "code",
      "source": [
        "jakis_tensor.dtype"
      ],
      "metadata": {
        "id": "ZdT99txpf8P3",
        "colab": {
          "base_uri": "https://localhost:8080/"
        },
        "outputId": "a5693b6e-38bd-43c2-9885-8e109bb1306c"
      },
      "execution_count": 156,
      "outputs": [
        {
          "output_type": "execute_result",
          "data": {
            "text/plain": [
              "torch.float32"
            ]
          },
          "metadata": {},
          "execution_count": 156
        }
      ]
    },
    {
      "cell_type": "code",
      "source": [
        "jakis_tensor_nowy=jakis_tensor.type(torch.float64)\n",
        "jakis_tensor_nowy"
      ],
      "metadata": {
        "id": "e51E9LmPgAKi",
        "colab": {
          "base_uri": "https://localhost:8080/"
        },
        "outputId": "c8c34041-219d-4c82-cdd3-615d0e3a0840"
      },
      "execution_count": 157,
      "outputs": [
        {
          "output_type": "execute_result",
          "data": {
            "text/plain": [
              "tensor([[[0.3865, 0.8379, 0.7598],\n",
              "         [0.9377, 0.0328, 0.6177],\n",
              "         [0.2613, 0.1385, 0.9460],\n",
              "         [0.4241, 0.4131, 0.2268]],\n",
              "\n",
              "        [[0.4614, 0.8720, 0.8223],\n",
              "         [0.7582, 0.6760, 0.1479],\n",
              "         [0.8688, 0.7424, 0.8436],\n",
              "         [0.0424, 0.6302, 0.1202]]], dtype=torch.float64)"
            ]
          },
          "metadata": {},
          "execution_count": 157
        }
      ]
    },
    {
      "cell_type": "code",
      "source": [
        "print(f\"data type tego:{jakis_tensor_nowy.dtype}\")\n",
        "print(f\"ksztalt tego nowego{jakis_tensor_nowy.shape}\")\n",
        "print(f\"na jakim device idzie {jakis_tensor_nowy.device}\")"
      ],
      "metadata": {
        "id": "OaeDJzqHgV6T",
        "colab": {
          "base_uri": "https://localhost:8080/"
        },
        "outputId": "78f4c66d-f1bb-4c54-e0e0-d56e8f7386b3"
      },
      "execution_count": 158,
      "outputs": [
        {
          "output_type": "stream",
          "name": "stdout",
          "text": [
            "data type tego:torch.float64\n",
            "ksztalt tego nowegotorch.Size([2, 4, 3])\n",
            "na jakim device idzie cpu\n"
          ]
        }
      ]
    },
    {
      "cell_type": "markdown",
      "source": [
        "#MANIPUALTING TENSORS TENSORS OPERATIONS!"
      ],
      "metadata": {
        "id": "bnv9GV7_hHkJ"
      }
    },
    {
      "cell_type": "code",
      "source": [
        "###TENSORS operation include\n",
        "#Addition\n",
        "#Subctraction\n",
        "#Multiplication(element-wise)\n",
        "#Division\n",
        "#Matrix multiplication"
      ],
      "metadata": {
        "id": "SN8_h8H8hlA3"
      },
      "execution_count": 159,
      "outputs": []
    },
    {
      "cell_type": "code",
      "source": [
        "#crate a tensor\n",
        "tensor=torch.tensor([1,2,3])\n",
        "tensor + 10"
      ],
      "metadata": {
        "id": "kVVt1hBYiH_1",
        "colab": {
          "base_uri": "https://localhost:8080/"
        },
        "outputId": "ecb18608-aae5-4ed9-c70c-345961c12552"
      },
      "execution_count": 160,
      "outputs": [
        {
          "output_type": "execute_result",
          "data": {
            "text/plain": [
              "tensor([11, 12, 13])"
            ]
          },
          "metadata": {},
          "execution_count": 160
        }
      ]
    },
    {
      "cell_type": "code",
      "source": [
        "tensor * 10"
      ],
      "metadata": {
        "id": "rb265BcuiatQ",
        "colab": {
          "base_uri": "https://localhost:8080/"
        },
        "outputId": "6913ffc3-11df-40de-81f3-338ea0c81a20"
      },
      "execution_count": 161,
      "outputs": [
        {
          "output_type": "execute_result",
          "data": {
            "text/plain": [
              "tensor([10, 20, 30])"
            ]
          },
          "metadata": {},
          "execution_count": 161
        }
      ]
    },
    {
      "cell_type": "code",
      "source": [
        "tensor"
      ],
      "metadata": {
        "id": "tOZKY1Vsirlq",
        "colab": {
          "base_uri": "https://localhost:8080/"
        },
        "outputId": "931e34eb-07e6-4614-d8e0-ad10335de370"
      },
      "execution_count": 162,
      "outputs": [
        {
          "output_type": "execute_result",
          "data": {
            "text/plain": [
              "tensor([1, 2, 3])"
            ]
          },
          "metadata": {},
          "execution_count": 162
        }
      ]
    },
    {
      "cell_type": "code",
      "source": [
        "#tensor=tensor*10"
      ],
      "metadata": {
        "id": "1DlvXvqGitT3"
      },
      "execution_count": 163,
      "outputs": []
    },
    {
      "cell_type": "code",
      "source": [
        "tensor"
      ],
      "metadata": {
        "id": "Fim9WHARivtT",
        "colab": {
          "base_uri": "https://localhost:8080/"
        },
        "outputId": "0f66efcd-aefa-44c4-f9aa-c18cffde1c40"
      },
      "execution_count": 164,
      "outputs": [
        {
          "output_type": "execute_result",
          "data": {
            "text/plain": [
              "tensor([1, 2, 3])"
            ]
          },
          "metadata": {},
          "execution_count": 164
        }
      ]
    },
    {
      "cell_type": "code",
      "source": [
        "tensor - 10"
      ],
      "metadata": {
        "id": "Omlid5h7iw8d",
        "colab": {
          "base_uri": "https://localhost:8080/"
        },
        "outputId": "f4d3aaab-e431-49f5-f37e-96254fbcc2fa"
      },
      "execution_count": 165,
      "outputs": [
        {
          "output_type": "execute_result",
          "data": {
            "text/plain": [
              "tensor([-9, -8, -7])"
            ]
          },
          "metadata": {},
          "execution_count": 165
        }
      ]
    },
    {
      "cell_type": "code",
      "source": [
        "tensor\n"
      ],
      "metadata": {
        "id": "CwcbhusNi4WQ",
        "colab": {
          "base_uri": "https://localhost:8080/"
        },
        "outputId": "8aa13280-cafc-4029-cc19-cc7667d4a30e"
      },
      "execution_count": 166,
      "outputs": [
        {
          "output_type": "execute_result",
          "data": {
            "text/plain": [
              "tensor([1, 2, 3])"
            ]
          },
          "metadata": {},
          "execution_count": 166
        }
      ]
    },
    {
      "cell_type": "code",
      "source": [
        "tensor"
      ],
      "metadata": {
        "id": "VUmUEv7GjCRd",
        "colab": {
          "base_uri": "https://localhost:8080/"
        },
        "outputId": "df708ee8-3511-4a57-f78f-dfaabb5d0f56"
      },
      "execution_count": 167,
      "outputs": [
        {
          "output_type": "execute_result",
          "data": {
            "text/plain": [
              "tensor([1, 2, 3])"
            ]
          },
          "metadata": {},
          "execution_count": 167
        }
      ]
    },
    {
      "cell_type": "code",
      "source": [
        "torch.mul(tensor,10)"
      ],
      "metadata": {
        "id": "Q2NtAqbRjFnC",
        "colab": {
          "base_uri": "https://localhost:8080/"
        },
        "outputId": "ac9e757f-955f-4c3a-96da-8961302d71da"
      },
      "execution_count": 168,
      "outputs": [
        {
          "output_type": "execute_result",
          "data": {
            "text/plain": [
              "tensor([10, 20, 30])"
            ]
          },
          "metadata": {},
          "execution_count": 168
        }
      ]
    },
    {
      "cell_type": "code",
      "source": [
        "torch.add(tensor,10)"
      ],
      "metadata": {
        "id": "wDCKLty4jMTc",
        "colab": {
          "base_uri": "https://localhost:8080/"
        },
        "outputId": "7636c7cb-c46d-4aa6-bde3-702fe5bcfa19"
      },
      "execution_count": 169,
      "outputs": [
        {
          "output_type": "execute_result",
          "data": {
            "text/plain": [
              "tensor([11, 12, 13])"
            ]
          },
          "metadata": {},
          "execution_count": 169
        }
      ]
    },
    {
      "cell_type": "code",
      "source": [
        "#MATRIX MULTIPLICATION 2 WAYS:\n",
        "#ELEMENT-WISE MULTIPLICATION\n",
        "#MATRIX MULTIPLICATION(dot product)"
      ],
      "metadata": {
        "id": "QAtMx03gjQbD"
      },
      "execution_count": 170,
      "outputs": []
    },
    {
      "cell_type": "code",
      "source": [
        "print(tensor,\"*\", tensor) # zwykle mnozenie"
      ],
      "metadata": {
        "id": "huv-tt_8kU6I",
        "colab": {
          "base_uri": "https://localhost:8080/"
        },
        "outputId": "47bf6e71-f130-4d3e-faf0-8b9846fcf09b"
      },
      "execution_count": 171,
      "outputs": [
        {
          "output_type": "stream",
          "name": "stdout",
          "text": [
            "tensor([1, 2, 3]) * tensor([1, 2, 3])\n"
          ]
        }
      ]
    },
    {
      "cell_type": "code",
      "source": [
        "print(f\"Equals:{tensor * tensor}\")"
      ],
      "metadata": {
        "id": "-I1IkZaukjPF",
        "colab": {
          "base_uri": "https://localhost:8080/"
        },
        "outputId": "8d5a8a57-8c28-4f4a-b145-d3d285cc4184"
      },
      "execution_count": 172,
      "outputs": [
        {
          "output_type": "stream",
          "name": "stdout",
          "text": [
            "Equals:tensor([1, 4, 9])\n"
          ]
        }
      ]
    },
    {
      "cell_type": "code",
      "source": [
        "#teraz mnozenie prezz marix multiplication"
      ],
      "metadata": {
        "id": "6hFQOUZPk1zr"
      },
      "execution_count": 173,
      "outputs": []
    },
    {
      "cell_type": "code",
      "source": [
        "torch.matmul(tensor, tensor) #MATMUL metoda matematyczna pytorcha"
      ],
      "metadata": {
        "id": "R6cDDZ2QlHd3",
        "colab": {
          "base_uri": "https://localhost:8080/"
        },
        "outputId": "2382ee88-5e82-45a7-ff78-a1162a87f34f"
      },
      "execution_count": 174,
      "outputs": [
        {
          "output_type": "execute_result",
          "data": {
            "text/plain": [
              "tensor(14)"
            ]
          },
          "metadata": {},
          "execution_count": 174
        }
      ]
    },
    {
      "cell_type": "code",
      "source": [
        "#matrix multiplication by hand\n",
        "tensor"
      ],
      "metadata": {
        "id": "Pjk4ZDaulQPj",
        "colab": {
          "base_uri": "https://localhost:8080/"
        },
        "outputId": "066611ba-e506-47c1-b76d-3606f0a30e30"
      },
      "execution_count": 175,
      "outputs": [
        {
          "output_type": "execute_result",
          "data": {
            "text/plain": [
              "tensor([1, 2, 3])"
            ]
          },
          "metadata": {},
          "execution_count": 175
        }
      ]
    },
    {
      "cell_type": "code",
      "source": [
        " 10 *10 + 20*20+ 30*30 "
      ],
      "metadata": {
        "id": "PKHzm3Kjlk_6",
        "colab": {
          "base_uri": "https://localhost:8080/"
        },
        "outputId": "e8413ca7-81bc-46e9-d8f3-2b86824720a8"
      },
      "execution_count": 176,
      "outputs": [
        {
          "output_type": "execute_result",
          "data": {
            "text/plain": [
              "1400"
            ]
          },
          "metadata": {},
          "execution_count": 176
        }
      ]
    },
    {
      "cell_type": "code",
      "source": [
        "%%time \n",
        "value=0\n",
        "for i in range(len(tensor)):\n",
        "  value += tensor[i] * tensor[i]\n",
        "print(value)"
      ],
      "metadata": {
        "id": "0wREFumrl3cR",
        "colab": {
          "base_uri": "https://localhost:8080/"
        },
        "outputId": "dc886a09-0680-4d36-96b3-b57694bb97e2"
      },
      "execution_count": 177,
      "outputs": [
        {
          "output_type": "stream",
          "name": "stdout",
          "text": [
            "tensor(14)\n",
            "CPU times: user 1.71 ms, sys: 0 ns, total: 1.71 ms\n",
            "Wall time: 2.33 ms\n"
          ]
        }
      ]
    },
    {
      "cell_type": "code",
      "source": [
        "%%time\n",
        "torch.matmul(tensor,tensor)"
      ],
      "metadata": {
        "id": "mwLvBUTHmmIt",
        "colab": {
          "base_uri": "https://localhost:8080/"
        },
        "outputId": "04659e43-0d73-4441-e87b-35ddd94a002e"
      },
      "execution_count": 178,
      "outputs": [
        {
          "output_type": "stream",
          "name": "stdout",
          "text": [
            "CPU times: user 1.32 ms, sys: 38 µs, total: 1.36 ms\n",
            "Wall time: 1.24 ms\n"
          ]
        },
        {
          "output_type": "execute_result",
          "data": {
            "text/plain": [
              "tensor(14)"
            ]
          },
          "metadata": {},
          "execution_count": 178
        }
      ]
    },
    {
      "cell_type": "code",
      "source": [
        "#SHAPE ERROR IN MATRIX MULTIPLICATION\n",
        "#1. THE **INNER DIMENSIONS UST MATCH:\n",
        "#(3,[2]) @ ([3],2) WONT WORK, ---> @ MNOZENIE, [2][3]--->inner dimensions,MUSZA BYC TAKIE SAME ZEBY ZADZIALALO!\n",
        "#(2,[3]) @ ([3],2) WILL WORK --->[]MUSZA BYC TAKIE SAME\n",
        "#(3,[2]) @ ([2],3) WILL WORK --->[]MUSZA BYC TAKIE SAME\n",
        "#\n",
        "#2.THE RESULTING MATRIX HAS THE SHAPE OF THE ** OUTER DIMENSIONS:\n",
        "#(2,3) @ (3,2) --->(2,2)\n",
        "#(3,2) @ (2,3) ---> (3,3)"
      ],
      "metadata": {
        "id": "jV70Xo7Hm2Op"
      },
      "execution_count": 179,
      "outputs": []
    },
    {
      "cell_type": "code",
      "source": [
        "torch.rand(3,2).shape"
      ],
      "metadata": {
        "id": "xqBw1esc07yR",
        "colab": {
          "base_uri": "https://localhost:8080/"
        },
        "outputId": "af6bf724-a26c-44bc-dbf1-23cacee21966"
      },
      "execution_count": 180,
      "outputs": [
        {
          "output_type": "execute_result",
          "data": {
            "text/plain": [
              "torch.Size([3, 2])"
            ]
          },
          "metadata": {},
          "execution_count": 180
        }
      ]
    },
    {
      "cell_type": "code",
      "source": [
        "torch.matmul(torch.rand(2,3), torch.rand(3,2)) #MM---> KROTSZA WERSJA OF MATMUL,SKROT MM"
      ],
      "metadata": {
        "id": "sB0Pq8iC1BVA",
        "colab": {
          "base_uri": "https://localhost:8080/"
        },
        "outputId": "6dfb5d10-0d72-46ea-e95c-a192fc3c963f"
      },
      "execution_count": 181,
      "outputs": [
        {
          "output_type": "execute_result",
          "data": {
            "text/plain": [
              "tensor([[0.4045, 0.4028],\n",
              "        [0.4191, 0.5039]])"
            ]
          },
          "metadata": {},
          "execution_count": 181
        }
      ]
    },
    {
      "cell_type": "code",
      "source": [
        "torch.matmul(torch.rand(3,2), torch.rand(2,3)).shape"
      ],
      "metadata": {
        "id": "ryuKuTFT2WfC",
        "colab": {
          "base_uri": "https://localhost:8080/"
        },
        "outputId": "219b6739-347a-49f5-da0a-1babe3a1e913"
      },
      "execution_count": 182,
      "outputs": [
        {
          "output_type": "execute_result",
          "data": {
            "text/plain": [
              "torch.Size([3, 3])"
            ]
          },
          "metadata": {},
          "execution_count": 182
        }
      ]
    },
    {
      "cell_type": "markdown",
      "source": [
        "#Shapes for matrix multiplication"
      ],
      "metadata": {
        "id": "cvdqzCWk2pkR"
      }
    },
    {
      "cell_type": "code",
      "source": [
        "tensor_A=torch.tensor([[1,2],\n",
        "                      [3,4],\n",
        "                      [5,6]])\n",
        "\n"
      ],
      "metadata": {
        "id": "IsS6vCUl3fUF"
      },
      "execution_count": 183,
      "outputs": []
    },
    {
      "cell_type": "code",
      "source": [
        "tensor_A"
      ],
      "metadata": {
        "id": "RVQTRh2m4E7d",
        "colab": {
          "base_uri": "https://localhost:8080/"
        },
        "outputId": "73ce5fe1-e6f9-4aa1-b18e-b51a5b4ed57e"
      },
      "execution_count": 184,
      "outputs": [
        {
          "output_type": "execute_result",
          "data": {
            "text/plain": [
              "tensor([[1, 2],\n",
              "        [3, 4],\n",
              "        [5, 6]])"
            ]
          },
          "metadata": {},
          "execution_count": 184
        }
      ]
    },
    {
      "cell_type": "code",
      "source": [
        "tensor_A=torch.tensor([[1,2],\n",
        "                      [3,4],\n",
        "                      [5,6]])\n",
        "\n",
        "tensor_B=torch.tensor([[7,10],\n",
        "                       [8,11],\n",
        "                       [9,12]])\n",
        "\n",
        "#torch.mm(tensor_A,tensor_B).SHAPE"
      ],
      "metadata": {
        "id": "HCyDF6_L4G2Q"
      },
      "execution_count": 185,
      "outputs": []
    },
    {
      "cell_type": "code",
      "source": [
        "#torch.mm(tensor_A,tensor_B).shape"
      ],
      "metadata": {
        "id": "Vn3pPmPN5IR_"
      },
      "execution_count": 186,
      "outputs": []
    },
    {
      "cell_type": "code",
      "source": [
        "tensor_A.shape, tensor_B.shape"
      ],
      "metadata": {
        "id": "nr4sV1eF5RyT",
        "colab": {
          "base_uri": "https://localhost:8080/"
        },
        "outputId": "c5f9c2fb-5d63-466b-cdfc-a2e0bda3f258"
      },
      "execution_count": 187,
      "outputs": [
        {
          "output_type": "execute_result",
          "data": {
            "text/plain": [
              "(torch.Size([3, 2]), torch.Size([3, 2]))"
            ]
          },
          "metadata": {},
          "execution_count": 187
        }
      ]
    },
    {
      "cell_type": "markdown",
      "source": [
        "TO FIX OUT TENSOR SHAPE ISSUES WE CAN MANIPULATE THE SHAPE OF ONE OF OUR TENSORS USING TRANSPOSE!!!"
      ],
      "metadata": {
        "id": "BTFIW80C5WDW"
      }
    },
    {
      "cell_type": "markdown",
      "source": [
        "A TRANSPOSE SWITCHES THE AXES OR DIMENSIONS OF A GIVEN TENSOR"
      ],
      "metadata": {
        "id": "osk5zRxX5ttA"
      }
    },
    {
      "cell_type": "code",
      "source": [
        "tensor_B.T, tensor_B"
      ],
      "metadata": {
        "id": "-i0t9iXz5398",
        "colab": {
          "base_uri": "https://localhost:8080/"
        },
        "outputId": "8291b43e-9a99-4d41-a128-efae6101cda2"
      },
      "execution_count": 188,
      "outputs": [
        {
          "output_type": "execute_result",
          "data": {
            "text/plain": [
              "(tensor([[ 7,  8,  9],\n",
              "         [10, 11, 12]]),\n",
              " tensor([[ 7, 10],\n",
              "         [ 8, 11],\n",
              "         [ 9, 12]]))"
            ]
          },
          "metadata": {},
          "execution_count": 188
        }
      ]
    },
    {
      "cell_type": "code",
      "source": [
        "tensor_B"
      ],
      "metadata": {
        "id": "f2PVqfgZ59E7",
        "colab": {
          "base_uri": "https://localhost:8080/"
        },
        "outputId": "9979f8d2-489c-41ab-9c36-72a7a74a6eda"
      },
      "execution_count": 189,
      "outputs": [
        {
          "output_type": "execute_result",
          "data": {
            "text/plain": [
              "tensor([[ 7, 10],\n",
              "        [ 8, 11],\n",
              "        [ 9, 12]])"
            ]
          },
          "metadata": {},
          "execution_count": 189
        }
      ]
    },
    {
      "cell_type": "code",
      "source": [
        "tensor_B.T"
      ],
      "metadata": {
        "id": "-wOR8VR76K-v",
        "colab": {
          "base_uri": "https://localhost:8080/"
        },
        "outputId": "58b826f5-3397-4ab9-ace4-5d757872d282"
      },
      "execution_count": 190,
      "outputs": [
        {
          "output_type": "execute_result",
          "data": {
            "text/plain": [
              "tensor([[ 7,  8,  9],\n",
              "        [10, 11, 12]])"
            ]
          },
          "metadata": {},
          "execution_count": 190
        }
      ]
    },
    {
      "cell_type": "code",
      "source": [
        "tensor_B.shape"
      ],
      "metadata": {
        "id": "aXL-uwCm6MoW",
        "colab": {
          "base_uri": "https://localhost:8080/"
        },
        "outputId": "a62958f1-a6cd-4f25-824f-30988a5b4989"
      },
      "execution_count": 191,
      "outputs": [
        {
          "output_type": "execute_result",
          "data": {
            "text/plain": [
              "torch.Size([3, 2])"
            ]
          },
          "metadata": {},
          "execution_count": 191
        }
      ]
    },
    {
      "cell_type": "code",
      "source": [
        "tensor_B.T.shape"
      ],
      "metadata": {
        "id": "GElTM6IP6Wrl",
        "colab": {
          "base_uri": "https://localhost:8080/"
        },
        "outputId": "18ea2c03-1c3d-40b2-aeaf-9de6bcd55741"
      },
      "execution_count": 192,
      "outputs": [
        {
          "output_type": "execute_result",
          "data": {
            "text/plain": [
              "torch.Size([2, 3])"
            ]
          },
          "metadata": {},
          "execution_count": 192
        }
      ]
    },
    {
      "cell_type": "code",
      "source": [
        "torch.matmul(tensor_A,tensor_B.T).shape"
      ],
      "metadata": {
        "id": "1pVd8RGZ6Ydp",
        "colab": {
          "base_uri": "https://localhost:8080/"
        },
        "outputId": "5f9ec376-25c0-4306-86e7-bb76ff230891"
      },
      "execution_count": 193,
      "outputs": [
        {
          "output_type": "execute_result",
          "data": {
            "text/plain": [
              "torch.Size([3, 3])"
            ]
          },
          "metadata": {},
          "execution_count": 193
        }
      ]
    },
    {
      "cell_type": "code",
      "source": [
        "#The matrix multiplication operation works when tensor_B is transposed (T)\n",
        "print(f\"Original shapes: tensor_A={tensor_A.shape},tensor_B={tensor_B.shape}\")\n",
        "print(f\"New shapes: tensor_A={tensor_A.shape} (SAME SHAPE AS ABOVE), tensor_B.T={tensor_B.T.shape}\")\n",
        "print(f\"multiplying:{tensor_A.shape} @ {tensor_B.T.shape}<----- INNER DIMENSIONS MUST MUCH\")\n",
        "print(\"Output:\\n\")\n",
        "output=torch.matmul(tensor_A,tensor_B.T)\n",
        "print(output)\n",
        "print(f\"\\nOutput shape: {output.shape}\")"
      ],
      "metadata": {
        "id": "xkm8MuS_64Z2",
        "colab": {
          "base_uri": "https://localhost:8080/"
        },
        "outputId": "afc97e25-8fb7-4c19-dd9c-8333d33ab0ff"
      },
      "execution_count": 194,
      "outputs": [
        {
          "output_type": "stream",
          "name": "stdout",
          "text": [
            "Original shapes: tensor_A=torch.Size([3, 2]),tensor_B=torch.Size([3, 2])\n",
            "New shapes: tensor_A=torch.Size([3, 2]) (SAME SHAPE AS ABOVE), tensor_B.T=torch.Size([2, 3])\n",
            "multiplying:torch.Size([3, 2]) @ torch.Size([2, 3])<----- INNER DIMENSIONS MUST MUCH\n",
            "Output:\n",
            "\n",
            "tensor([[ 27,  30,  33],\n",
            "        [ 61,  68,  75],\n",
            "        [ 95, 106, 117]])\n",
            "\n",
            "Output shape: torch.Size([3, 3])\n"
          ]
        }
      ]
    },
    {
      "cell_type": "markdown",
      "source": [
        "#finding the min,max,mean,tensro aggregation"
      ],
      "metadata": {
        "id": "ah1YtpTh9YaR"
      }
    },
    {
      "cell_type": "code",
      "source": [
        "#create a tensor\n",
        "x =torch.arange(1,100,10)\n",
        "x\n",
        "x.dtype"
      ],
      "metadata": {
        "colab": {
          "base_uri": "https://localhost:8080/"
        },
        "id": "J9FEF5IqJqrS",
        "outputId": "af2a12b4-1a82-41ad-dc42-e7630bf537f7"
      },
      "execution_count": 195,
      "outputs": [
        {
          "output_type": "execute_result",
          "data": {
            "text/plain": [
              "torch.int64"
            ]
          },
          "metadata": {},
          "execution_count": 195
        }
      ]
    },
    {
      "cell_type": "code",
      "source": [
        "torch.min(x)"
      ],
      "metadata": {
        "colab": {
          "base_uri": "https://localhost:8080/"
        },
        "id": "LNJQTryiJ9MG",
        "outputId": "45d7a377-37d8-4e90-cb17-f4031e8a963d"
      },
      "execution_count": 196,
      "outputs": [
        {
          "output_type": "execute_result",
          "data": {
            "text/plain": [
              "tensor(1)"
            ]
          },
          "metadata": {},
          "execution_count": 196
        }
      ]
    },
    {
      "cell_type": "code",
      "source": [
        "x.min()"
      ],
      "metadata": {
        "colab": {
          "base_uri": "https://localhost:8080/"
        },
        "id": "qwW0KDvPKV5H",
        "outputId": "08a88c04-80f8-486c-ca98-2c89ed53f625"
      },
      "execution_count": 197,
      "outputs": [
        {
          "output_type": "execute_result",
          "data": {
            "text/plain": [
              "tensor(1)"
            ]
          },
          "metadata": {},
          "execution_count": 197
        }
      ]
    },
    {
      "cell_type": "code",
      "source": [
        "torch.max(x), x.max()"
      ],
      "metadata": {
        "colab": {
          "base_uri": "https://localhost:8080/"
        },
        "id": "cWZxOdk0KX-4",
        "outputId": "057ee158-15e6-4105-eedf-05d7e9de850e"
      },
      "execution_count": 198,
      "outputs": [
        {
          "output_type": "execute_result",
          "data": {
            "text/plain": [
              "(tensor(91), tensor(91))"
            ]
          },
          "metadata": {},
          "execution_count": 198
        }
      ]
    },
    {
      "cell_type": "code",
      "source": [
        "torch.mean(x.type(torch.float32)) # the torch.mean() function requires a tensor of float32 datatype to work"
      ],
      "metadata": {
        "colab": {
          "base_uri": "https://localhost:8080/"
        },
        "id": "TS2mI-Q5KcRz",
        "outputId": "9768584c-0fd9-4b9d-d928-2730f1eee3c4"
      },
      "execution_count": 199,
      "outputs": [
        {
          "output_type": "execute_result",
          "data": {
            "text/plain": [
              "tensor(46.)"
            ]
          },
          "metadata": {},
          "execution_count": 199
        }
      ]
    },
    {
      "cell_type": "code",
      "source": [
        "x.type(torch.float32).mean()"
      ],
      "metadata": {
        "colab": {
          "base_uri": "https://localhost:8080/"
        },
        "id": "lkeg-oaWKqXj",
        "outputId": "687bce9d-8fd7-4ff8-9c63-5c8b49beb6b5"
      },
      "execution_count": 200,
      "outputs": [
        {
          "output_type": "execute_result",
          "data": {
            "text/plain": [
              "tensor(46.)"
            ]
          },
          "metadata": {},
          "execution_count": 200
        }
      ]
    },
    {
      "cell_type": "code",
      "source": [
        "torch.sum(x)\n"
      ],
      "metadata": {
        "colab": {
          "base_uri": "https://localhost:8080/"
        },
        "id": "gXDel8htLuib",
        "outputId": "0d464947-854d-4948-b9c0-aa7ff0420fb0"
      },
      "execution_count": 201,
      "outputs": [
        {
          "output_type": "execute_result",
          "data": {
            "text/plain": [
              "tensor(460)"
            ]
          },
          "metadata": {},
          "execution_count": 201
        }
      ]
    },
    {
      "cell_type": "code",
      "source": [
        "x.sum()"
      ],
      "metadata": {
        "colab": {
          "base_uri": "https://localhost:8080/"
        },
        "id": "CIPedLQOMOnI",
        "outputId": "09e3c74e-2b02-4be8-eff7-bac43043a425"
      },
      "execution_count": 202,
      "outputs": [
        {
          "output_type": "execute_result",
          "data": {
            "text/plain": [
              "tensor(460)"
            ]
          },
          "metadata": {},
          "execution_count": 202
        }
      ]
    },
    {
      "cell_type": "markdown",
      "source": [
        "#ARG MAX AND ARG MIN -POZYCJA MIN I MAX"
      ],
      "metadata": {
        "id": "D2_0yDeEMQeV"
      }
    },
    {
      "cell_type": "code",
      "source": [
        "#FINDING THE POSITIONAL \n",
        "x.argmin()"
      ],
      "metadata": {
        "colab": {
          "base_uri": "https://localhost:8080/"
        },
        "id": "62nXzznrMqyw",
        "outputId": "4e9ea4c9-b03f-45b2-dd5c-735141dfd01f"
      },
      "execution_count": 203,
      "outputs": [
        {
          "output_type": "execute_result",
          "data": {
            "text/plain": [
              "tensor(0)"
            ]
          },
          "metadata": {},
          "execution_count": 203
        }
      ]
    },
    {
      "cell_type": "code",
      "source": [
        "x[0]"
      ],
      "metadata": {
        "colab": {
          "base_uri": "https://localhost:8080/"
        },
        "id": "_6EBuCzONHLp",
        "outputId": "d3da254a-fe16-4579-9182-eb0ca8fe7f33"
      },
      "execution_count": 204,
      "outputs": [
        {
          "output_type": "execute_result",
          "data": {
            "text/plain": [
              "tensor(1)"
            ]
          },
          "metadata": {},
          "execution_count": 204
        }
      ]
    },
    {
      "cell_type": "code",
      "source": [
        "x.argmax() #pozycja na indexie 9"
      ],
      "metadata": {
        "colab": {
          "base_uri": "https://localhost:8080/"
        },
        "id": "fSq4ExrZNLD5",
        "outputId": "427c499f-ca06-4ebd-a6f9-521aacb40a9e"
      },
      "execution_count": 205,
      "outputs": [
        {
          "output_type": "execute_result",
          "data": {
            "text/plain": [
              "tensor(9)"
            ]
          },
          "metadata": {},
          "execution_count": 205
        }
      ]
    },
    {
      "cell_type": "code",
      "source": [
        "x[9] #szukanie po indeksie"
      ],
      "metadata": {
        "colab": {
          "base_uri": "https://localhost:8080/"
        },
        "id": "FYpKIihLOEI-",
        "outputId": "de2dca3e-7e72-43e6-dd1b-b8ca811c1970"
      },
      "execution_count": 206,
      "outputs": [
        {
          "output_type": "execute_result",
          "data": {
            "text/plain": [
              "tensor(91)"
            ]
          },
          "metadata": {},
          "execution_count": 206
        }
      ]
    },
    {
      "cell_type": "markdown",
      "source": [
        "#RESHAPING,STACKING,SQUEEZING AND UNSQUEZZING\n",
        "\n",
        "*RESHAPING- RESHAPE AN INPUT TENSOR TO A DEFINED SHAPE\n",
        "*VIEW-RETURN A VIEW OF AN INPUT TENSOR OF CERTAIN SHAPE BUT KEEP THE SAME MEMORY AS TH ORIGINAL TENSOR\n",
        "*STACKING- COMBINE MULTIPLE TENSOR ON TOP OF EACH OTHER(VSTACK) ORSIDE BY SIDE(HSTACK),\n",
        "*SQUEEZE-REMOVES ALL 1 DIMENSIONS FROM A TENSOR\n",
        "*UNSQUEEZE- ADD A 1 DIMENSION TO A TERGET\n",
        "*PERMUTE-RETURN A VIEW OF THE INPUT WITH DIMENSIONS PERMUTED"
      ],
      "metadata": {
        "id": "mRXcHALvOI7N"
      }
    },
    {
      "cell_type": "code",
      "source": [
        "import torch\n",
        "x=torch.arange(1.,10.)\n",
        "x, x.shape"
      ],
      "metadata": {
        "colab": {
          "base_uri": "https://localhost:8080/"
        },
        "id": "S-4gIU8KOy9q",
        "outputId": "807de781-2760-4d3a-d0e1-585f3e8dc446"
      },
      "execution_count": 207,
      "outputs": [
        {
          "output_type": "execute_result",
          "data": {
            "text/plain": [
              "(tensor([1., 2., 3., 4., 5., 6., 7., 8., 9.]), torch.Size([9]))"
            ]
          },
          "metadata": {},
          "execution_count": 207
        }
      ]
    },
    {
      "cell_type": "code",
      "source": [
        "#add an extra dimension\n",
        "x_reshaped=x.reshape(1,9)\n",
        "x_reshaped, x_reshaped.shape"
      ],
      "metadata": {
        "colab": {
          "base_uri": "https://localhost:8080/"
        },
        "id": "0uetbpsSRIHM",
        "outputId": "2a77c215-2784-4fac-cca8-998879426c04"
      },
      "execution_count": 208,
      "outputs": [
        {
          "output_type": "execute_result",
          "data": {
            "text/plain": [
              "(tensor([[1., 2., 3., 4., 5., 6., 7., 8., 9.]]), torch.Size([1, 9]))"
            ]
          },
          "metadata": {},
          "execution_count": 208
        }
      ]
    },
    {
      "cell_type": "code",
      "source": [
        "x_reshaped=x.reshape(9,1)\n",
        "x_reshaped, x_reshaped.shape"
      ],
      "metadata": {
        "colab": {
          "base_uri": "https://localhost:8080/"
        },
        "id": "Hw2ToyyMRid6",
        "outputId": "00f36a6b-a864-42b5-e12e-14dafdeff51b"
      },
      "execution_count": 209,
      "outputs": [
        {
          "output_type": "execute_result",
          "data": {
            "text/plain": [
              "(tensor([[1.],\n",
              "         [2.],\n",
              "         [3.],\n",
              "         [4.],\n",
              "         [5.],\n",
              "         [6.],\n",
              "         [7.],\n",
              "         [8.],\n",
              "         [9.]]),\n",
              " torch.Size([9, 1]))"
            ]
          },
          "metadata": {},
          "execution_count": 209
        }
      ]
    },
    {
      "cell_type": "code",
      "source": [
        "#change the view\n",
        "z=x.view(1,9)\n",
        "z, z.shape"
      ],
      "metadata": {
        "colab": {
          "base_uri": "https://localhost:8080/"
        },
        "id": "1p5Kx2ilSGWd",
        "outputId": "a1345d9d-d083-43dc-c207-750d34962d0f"
      },
      "execution_count": 210,
      "outputs": [
        {
          "output_type": "execute_result",
          "data": {
            "text/plain": [
              "(tensor([[1., 2., 3., 4., 5., 6., 7., 8., 9.]]), torch.Size([1, 9]))"
            ]
          },
          "metadata": {},
          "execution_count": 210
        }
      ]
    },
    {
      "cell_type": "code",
      "source": [
        "#changing z changes x(because the view of the tensor has the same memory as oryginal input)\n",
        "z[:,0]=5\n",
        "z,x"
      ],
      "metadata": {
        "colab": {
          "base_uri": "https://localhost:8080/"
        },
        "id": "8-ncYqQFSqq9",
        "outputId": "07c74524-0a8f-4293-918d-c644ef138cf7"
      },
      "execution_count": 211,
      "outputs": [
        {
          "output_type": "execute_result",
          "data": {
            "text/plain": [
              "(tensor([[5., 2., 3., 4., 5., 6., 7., 8., 9.]]),\n",
              " tensor([5., 2., 3., 4., 5., 6., 7., 8., 9.]))"
            ]
          },
          "metadata": {},
          "execution_count": 211
        }
      ]
    },
    {
      "cell_type": "code",
      "source": [
        "#stack tensors on top of each other \n",
        "x_stacked=torch.stack([x,x,x,x],dim=1)\n",
        "x_stacked"
      ],
      "metadata": {
        "colab": {
          "base_uri": "https://localhost:8080/"
        },
        "id": "mh9Czu5OS-Tu",
        "outputId": "4704719b-a484-470f-d97d-044a73a1fe75"
      },
      "execution_count": 212,
      "outputs": [
        {
          "output_type": "execute_result",
          "data": {
            "text/plain": [
              "tensor([[5., 5., 5., 5.],\n",
              "        [2., 2., 2., 2.],\n",
              "        [3., 3., 3., 3.],\n",
              "        [4., 4., 4., 4.],\n",
              "        [5., 5., 5., 5.],\n",
              "        [6., 6., 6., 6.],\n",
              "        [7., 7., 7., 7.],\n",
              "        [8., 8., 8., 8.],\n",
              "        [9., 9., 9., 9.]])"
            ]
          },
          "metadata": {},
          "execution_count": 212
        }
      ]
    },
    {
      "cell_type": "code",
      "source": [
        "x_stacked=torch.stack([x,x,x,x],dim=0)\n",
        "x_stacked"
      ],
      "metadata": {
        "colab": {
          "base_uri": "https://localhost:8080/"
        },
        "id": "p2BXysvCThZk",
        "outputId": "de3d8895-76f0-4e80-f53d-63a418212571"
      },
      "execution_count": 213,
      "outputs": [
        {
          "output_type": "execute_result",
          "data": {
            "text/plain": [
              "tensor([[5., 2., 3., 4., 5., 6., 7., 8., 9.],\n",
              "        [5., 2., 3., 4., 5., 6., 7., 8., 9.],\n",
              "        [5., 2., 3., 4., 5., 6., 7., 8., 9.],\n",
              "        [5., 2., 3., 4., 5., 6., 7., 8., 9.]])"
            ]
          },
          "metadata": {},
          "execution_count": 213
        }
      ]
    },
    {
      "cell_type": "code",
      "source": [
        "#squeeze-removes all single dim from tensor\n",
        "print(f\"Previous tensor:{x_reshaped}\")\n",
        "print(f\"previous shape:{x_reshaped.shape}\")\n",
        "\n",
        "#remove extra dimensions from x_reshaped\n",
        "x_squeezed=x_reshaped.squeeze()\n",
        "print(f\"\\nNew tensor:{x_squeezed}\")\n",
        "print(f\"New shape:{x_squeezed.shape}\")\n",
        "\n",
        "\n",
        "\n",
        "#x=torch.zeros(2,1,2,1,2)"
      ],
      "metadata": {
        "id": "padx0qlhTt1s",
        "colab": {
          "base_uri": "https://localhost:8080/"
        },
        "outputId": "be8690e9-a24f-40d4-af42-82724d4c4ea6"
      },
      "execution_count": 226,
      "outputs": [
        {
          "output_type": "stream",
          "name": "stdout",
          "text": [
            "Previous tensor:tensor([[5.],\n",
            "        [2.],\n",
            "        [3.],\n",
            "        [4.],\n",
            "        [5.],\n",
            "        [6.],\n",
            "        [7.],\n",
            "        [8.],\n",
            "        [9.]])\n",
            "previous shape:torch.Size([9, 1])\n",
            "\n",
            "New tensor:tensor([5., 2., 3., 4., 5., 6., 7., 8., 9.])\n",
            "New shape:torch.Size([9])\n"
          ]
        }
      ]
    },
    {
      "cell_type": "code",
      "source": [
        "#torch.unsqueeze()---> adds a single dim to a target tensor at specific dim\n",
        "print(f\"previous target:{x_squeezed}\")\n",
        "print(f\"previous shape:{x_squeezed.shape}\")\n",
        "\n",
        "#add an extra dim with unsqueezed\n",
        "x_unsqueezed=x_squeezed.unsqueeze(dim=0)\n",
        "print(f\"\\nNew tensor:{x_unsqueezed}\")\n",
        "print(f\"New shape:{x_unsqueezed.shape}\")\n",
        "\n",
        "\n"
      ],
      "metadata": {
        "colab": {
          "base_uri": "https://localhost:8080/"
        },
        "id": "FHBRRVHy0MvS",
        "outputId": "bf2e170b-307e-408f-fad9-3943bff32432"
      },
      "execution_count": 230,
      "outputs": [
        {
          "output_type": "stream",
          "name": "stdout",
          "text": [
            "previous target:tensor([5., 2., 3., 4., 5., 6., 7., 8., 9.])\n",
            "previous shape:torch.Size([9])\n",
            "\n",
            "New tensor:tensor([[5., 2., 3., 4., 5., 6., 7., 8., 9.]])\n",
            "New shape:torch.Size([1, 9])\n"
          ]
        }
      ]
    },
    {
      "cell_type": "code",
      "source": [
        "#torch.permute()---> rearranges the dim of a target tensor in a specified order\n",
        "\n",
        "x_original=torch.rand(size=(224,224,3)) #[height,width,colour_channels]\n",
        "\n",
        "#Permute the original tensor to rearrange the axis(or dim) order \n",
        "x_permuted=x_original.permute(2,0,1) #shifts axis 0-->1, 1-->2, 2--->0\n",
        "\n",
        "print(f\"Previous shape:{x_original.shape}\")\n",
        "print(f\"\\nNew shape:{x_permuted.shape}\") #[colour_channels,height,width]\n"
      ],
      "metadata": {
        "colab": {
          "base_uri": "https://localhost:8080/"
        },
        "id": "okzIun3t1mhy",
        "outputId": "ef14effc-6a89-486e-de7e-276a1e960e9a"
      },
      "execution_count": 231,
      "outputs": [
        {
          "output_type": "stream",
          "name": "stdout",
          "text": [
            "Previous shape:torch.Size([224, 224, 3])\n",
            "\n",
            "New shape:torch.Size([3, 224, 224])\n"
          ]
        }
      ]
    },
    {
      "cell_type": "code",
      "source": [
        "x.size()"
      ],
      "metadata": {
        "colab": {
          "base_uri": "https://localhost:8080/"
        },
        "id": "KNxOqDhwxl_7",
        "outputId": "40ae7dcc-1d77-47d9-87b8-7931a1b094b8"
      },
      "execution_count": 215,
      "outputs": [
        {
          "output_type": "execute_result",
          "data": {
            "text/plain": [
              "torch.Size([2, 1, 2, 1, 2])"
            ]
          },
          "metadata": {},
          "execution_count": 215
        }
      ]
    },
    {
      "cell_type": "code",
      "source": [
        "y=torch.squeeze(x)\n",
        "y.size()"
      ],
      "metadata": {
        "colab": {
          "base_uri": "https://localhost:8080/"
        },
        "id": "GlapvKr4xpTu",
        "outputId": "af1bea85-edeb-4d6b-9368-f39d260175c4"
      },
      "execution_count": 217,
      "outputs": [
        {
          "output_type": "execute_result",
          "data": {
            "text/plain": [
              "torch.Size([2, 2, 2])"
            ]
          },
          "metadata": {},
          "execution_count": 217
        }
      ]
    },
    {
      "cell_type": "code",
      "source": [
        "y=torch.squeeze(x,0)\n",
        "y.size()"
      ],
      "metadata": {
        "colab": {
          "base_uri": "https://localhost:8080/"
        },
        "id": "39-I4lhFxu1Z",
        "outputId": "6aae3fff-ffb3-489f-ea90-c3ac0faaea00"
      },
      "execution_count": 218,
      "outputs": [
        {
          "output_type": "execute_result",
          "data": {
            "text/plain": [
              "torch.Size([2, 1, 2, 1, 2])"
            ]
          },
          "metadata": {},
          "execution_count": 218
        }
      ]
    },
    {
      "cell_type": "code",
      "source": [
        "y=torch.squeeze(x,1)\n",
        "y.size()"
      ],
      "metadata": {
        "colab": {
          "base_uri": "https://localhost:8080/"
        },
        "id": "Z-H8HYk9x5dZ",
        "outputId": "c94088a9-9de6-45d7-9122-c8a2be44f203"
      },
      "execution_count": 219,
      "outputs": [
        {
          "output_type": "execute_result",
          "data": {
            "text/plain": [
              "torch.Size([2, 2, 1, 2])"
            ]
          },
          "metadata": {},
          "execution_count": 219
        }
      ]
    },
    {
      "cell_type": "code",
      "source": [
        "x_reshaped"
      ],
      "metadata": {
        "colab": {
          "base_uri": "https://localhost:8080/"
        },
        "id": "othknqpZyGaR",
        "outputId": "c0916d92-c00e-497f-bc85-08180ed310f3"
      },
      "execution_count": 220,
      "outputs": [
        {
          "output_type": "execute_result",
          "data": {
            "text/plain": [
              "tensor([[5.],\n",
              "        [2.],\n",
              "        [3.],\n",
              "        [4.],\n",
              "        [5.],\n",
              "        [6.],\n",
              "        [7.],\n",
              "        [8.],\n",
              "        [9.]])"
            ]
          },
          "metadata": {},
          "execution_count": 220
        }
      ]
    },
    {
      "cell_type": "code",
      "source": [
        "x_reshaped.shape"
      ],
      "metadata": {
        "colab": {
          "base_uri": "https://localhost:8080/"
        },
        "id": "xnsamWytyYBC",
        "outputId": "0567ea55-d5d1-41d6-b88d-fdfc38ccd954"
      },
      "execution_count": 221,
      "outputs": [
        {
          "output_type": "execute_result",
          "data": {
            "text/plain": [
              "torch.Size([9, 1])"
            ]
          },
          "metadata": {},
          "execution_count": 221
        }
      ]
    },
    {
      "cell_type": "code",
      "source": [
        "x_reshaped.squeeze()"
      ],
      "metadata": {
        "colab": {
          "base_uri": "https://localhost:8080/"
        },
        "id": "7a0jjFU3ybE4",
        "outputId": "c5880634-603e-408a-cea0-aacd8eb9896e"
      },
      "execution_count": 223,
      "outputs": [
        {
          "output_type": "execute_result",
          "data": {
            "text/plain": [
              "tensor([5., 2., 3., 4., 5., 6., 7., 8., 9.])"
            ]
          },
          "metadata": {},
          "execution_count": 223
        }
      ]
    },
    {
      "cell_type": "code",
      "source": [
        "x_reshaped.squeeze().shape"
      ],
      "metadata": {
        "colab": {
          "base_uri": "https://localhost:8080/"
        },
        "id": "PXY4_5rEyhDF",
        "outputId": "6c321b93-3df9-4de0-fa0e-c1ac25d7dafe"
      },
      "execution_count": 224,
      "outputs": [
        {
          "output_type": "execute_result",
          "data": {
            "text/plain": [
              "torch.Size([9])"
            ]
          },
          "metadata": {},
          "execution_count": 224
        }
      ]
    },
    {
      "cell_type": "code",
      "source": [
        "x_original[0,0,0]= 728218\n",
        "x_original[0,0,0], x_permuted[0,0,0]"
      ],
      "metadata": {
        "colab": {
          "base_uri": "https://localhost:8080/"
        },
        "id": "eWp1pSEayr-X",
        "outputId": "37aea7c7-51a9-4525-d523-23d4a0d380d8"
      },
      "execution_count": 232,
      "outputs": [
        {
          "output_type": "execute_result",
          "data": {
            "text/plain": [
              "(tensor(728218.), tensor(728218.))"
            ]
          },
          "metadata": {},
          "execution_count": 232
        }
      ]
    },
    {
      "cell_type": "markdown",
      "source": [
        "##Indexing (selecting data from tensor)\n",
        "\n",
        "indexing with pytorch is similar with indexing with numpy"
      ],
      "metadata": {
        "id": "d-YLaHrW4XGZ"
      }
    },
    {
      "cell_type": "code",
      "source": [
        "#creating a tensor\n",
        "\n",
        "import torch\n",
        "x=torch.arange(1,10).reshape(1,3,3)\n",
        "\n",
        "x,x.shape\n",
        "\n",
        "\n"
      ],
      "metadata": {
        "colab": {
          "base_uri": "https://localhost:8080/"
        },
        "id": "I_DC3eMG_0l_",
        "outputId": "65116795-4c2d-47e2-f0ee-2b7923178d63"
      },
      "execution_count": 233,
      "outputs": [
        {
          "output_type": "execute_result",
          "data": {
            "text/plain": [
              "(tensor([[[1, 2, 3],\n",
              "          [4, 5, 6],\n",
              "          [7, 8, 9]]]),\n",
              " torch.Size([1, 3, 3]))"
            ]
          },
          "metadata": {},
          "execution_count": 233
        }
      ]
    },
    {
      "cell_type": "code",
      "source": [
        "#lets index on our new tensor\n",
        "x[0]"
      ],
      "metadata": {
        "colab": {
          "base_uri": "https://localhost:8080/"
        },
        "id": "nGepEy-tAHr9",
        "outputId": "d9d294d2-adb1-41a1-e31b-fa9622cb310f"
      },
      "execution_count": 234,
      "outputs": [
        {
          "output_type": "execute_result",
          "data": {
            "text/plain": [
              "tensor([[1, 2, 3],\n",
              "        [4, 5, 6],\n",
              "        [7, 8, 9]])"
            ]
          },
          "metadata": {},
          "execution_count": 234
        }
      ]
    },
    {
      "cell_type": "code",
      "source": [
        "#lets index on the middle beacket(dim=1)\n",
        "x[0][0] # or x[0,0]"
      ],
      "metadata": {
        "colab": {
          "base_uri": "https://localhost:8080/"
        },
        "id": "zhyR21GrATXs",
        "outputId": "7a183e58-0def-4fee-b310-7d00959e607a"
      },
      "execution_count": 235,
      "outputs": [
        {
          "output_type": "execute_result",
          "data": {
            "text/plain": [
              "tensor([1, 2, 3])"
            ]
          },
          "metadata": {},
          "execution_count": 235
        }
      ]
    },
    {
      "cell_type": "code",
      "source": [
        "x[0][0][0]"
      ],
      "metadata": {
        "colab": {
          "base_uri": "https://localhost:8080/"
        },
        "id": "Mhrf8UcfAhUA",
        "outputId": "74af66ac-da3b-4547-ef12-2f433a4fb2c8"
      },
      "execution_count": 236,
      "outputs": [
        {
          "output_type": "execute_result",
          "data": {
            "text/plain": [
              "tensor(1)"
            ]
          },
          "metadata": {},
          "execution_count": 236
        }
      ]
    },
    {
      "cell_type": "code",
      "source": [
        "x[0][0][1]"
      ],
      "metadata": {
        "colab": {
          "base_uri": "https://localhost:8080/"
        },
        "id": "AsOSIzCdAxBG",
        "outputId": "e85efb6e-2c53-40fc-ee91-e423bb89d6f0"
      },
      "execution_count": 237,
      "outputs": [
        {
          "output_type": "execute_result",
          "data": {
            "text/plain": [
              "tensor(2)"
            ]
          },
          "metadata": {},
          "execution_count": 237
        }
      ]
    },
    {
      "cell_type": "code",
      "source": [
        "x[0][1][1]\n"
      ],
      "metadata": {
        "colab": {
          "base_uri": "https://localhost:8080/"
        },
        "id": "Z3b5gG0PBDw_",
        "outputId": "64d77063-a479-4026-d657-d0688ba6b408"
      },
      "execution_count": 238,
      "outputs": [
        {
          "output_type": "execute_result",
          "data": {
            "text/plain": [
              "tensor(5)"
            ]
          },
          "metadata": {},
          "execution_count": 238
        }
      ]
    },
    {
      "cell_type": "code",
      "source": [
        "x[0][1][0]"
      ],
      "metadata": {
        "colab": {
          "base_uri": "https://localhost:8080/"
        },
        "id": "u_3A0mF9BHcj",
        "outputId": "5530c4cf-a7fc-4a08-9205-bd061b5f64a0"
      },
      "execution_count": 239,
      "outputs": [
        {
          "output_type": "execute_result",
          "data": {
            "text/plain": [
              "tensor(4)"
            ]
          },
          "metadata": {},
          "execution_count": 239
        }
      ]
    },
    {
      "cell_type": "code",
      "source": [
        "#You can also use [:] to select all of a target dim\n",
        "x[:,0]"
      ],
      "metadata": {
        "colab": {
          "base_uri": "https://localhost:8080/"
        },
        "id": "WOMLUU0eBRWp",
        "outputId": "c17d4659-cdd6-4dc8-cffb-68a469c099b2"
      },
      "execution_count": 240,
      "outputs": [
        {
          "output_type": "execute_result",
          "data": {
            "text/plain": [
              "tensor([[1, 2, 3]])"
            ]
          },
          "metadata": {},
          "execution_count": 240
        }
      ]
    },
    {
      "cell_type": "code",
      "source": [
        "#get all values of zeroth and first dim,but only index one of second dim\n",
        "x[:,:,1]"
      ],
      "metadata": {
        "colab": {
          "base_uri": "https://localhost:8080/"
        },
        "id": "An0Rwh1iBqET",
        "outputId": "63056704-8842-4851-b1c3-1f09bffcbd49"
      },
      "execution_count": 241,
      "outputs": [
        {
          "output_type": "execute_result",
          "data": {
            "text/plain": [
              "tensor([[2, 5, 8]])"
            ]
          },
          "metadata": {},
          "execution_count": 241
        }
      ]
    },
    {
      "cell_type": "code",
      "source": [],
      "metadata": {
        "id": "qwd1OB0aB8B0"
      },
      "execution_count": null,
      "outputs": []
    }
  ]
}